{
  "nbformat": 4,
  "nbformat_minor": 0,
  "metadata": {
    "colab": {
      "provenance": []
    },
    "kernelspec": {
      "name": "python3",
      "display_name": "Python 3"
    },
    "language_info": {
      "name": "python"
    }
  },
  "cells": [
    {
      "cell_type": "markdown",
      "source": [
        "## Importing Data"
      ],
      "metadata": {
        "id": "5lfH25TqZwc3"
      }
    },
    {
      "cell_type": "code",
      "execution_count": 13,
      "metadata": {
        "id": "NFsnuxh_XmOw"
      },
      "outputs": [],
      "source": [
        "import tensorflow as tf\n",
        "from tensorflow import keras\n",
        "import numpy as np\n",
        "import matplotlib.pyplot as plt\n",
        "\n",
        "data_train, data_test = tf.keras.datasets.mnist.load_data()\n",
        "\n",
        "(images_train, labels_train) = data_train\n",
        "(images_test, labels_test) = data_test"
      ]
    },
    {
      "cell_type": "markdown",
      "source": [
        "## Check Data Type and Size"
      ],
      "metadata": {
        "id": "LnBiO-cvZ4l1"
      }
    },
    {
      "cell_type": "code",
      "source": [
        "print(images_train.shape)\n",
        "print(images_train[0].dtype)\n",
        "print(labels_train.shape)\n",
        "print(labels_train.dtype)"
      ],
      "metadata": {
        "colab": {
          "base_uri": "https://localhost:8080/"
        },
        "id": "4p8oCzztX-33",
        "outputId": "54bf178b-6611-4c76-b5f0-903d463d14e1"
      },
      "execution_count": 14,
      "outputs": [
        {
          "output_type": "stream",
          "name": "stdout",
          "text": [
            "(60000, 28, 28)\n",
            "uint8\n",
            "(60000,)\n",
            "uint8\n"
          ]
        }
      ]
    },
    {
      "cell_type": "markdown",
      "source": [
        "## Functions that make feature"
      ],
      "metadata": {
        "id": "q14Z6Nb1Z7w0"
      }
    },
    {
      "cell_type": "code",
      "source": [
        "def _bytes_feature(value):\n",
        "  \"\"\"Returns a bytes_list from a string / byte.\"\"\"\n",
        "  if isinstance(value, type(tf.constant(0))):\n",
        "    value = value.numpy() # BytesList won't unpack a string from an EagerTensor.\n",
        "  return tf.train.Feature(bytes_list=tf.train.BytesList(value=[value]))\n",
        "\n",
        "def _float_feature(value):\n",
        "  \"\"\"Returns a float_list from a float / double.\"\"\"\n",
        "  return tf.train.Feature(float_list=tf.train.FloatList(value=[value]))\n",
        "\n",
        "def _int64_feature(value):\n",
        "  \"\"\"Returns an int64_list from a bool / enum / int / uint.\"\"\"\n",
        "  return tf.train.Feature(int64_list=tf.train.Int64List(value=[value]))"
      ],
      "metadata": {
        "id": "ZFzDJ8f6YVG0"
      },
      "execution_count": 15,
      "outputs": []
    },
    {
      "cell_type": "markdown",
      "source": [
        "## Write TFRecord"
      ],
      "metadata": {
        "id": "1w5q4uvWaAof"
      }
    },
    {
      "cell_type": "code",
      "source": [
        "def make_example(image, label):\n",
        "    return Example(features=Features(feature={\n",
        "        \"image\": _bytes_feature(image),\n",
        "        \"label\": _int64_feature(label)\n",
        "    }))\n",
        "\n",
        "def write_tfrecord(images, labels, filename):\n",
        "    writer = tf.io.TFRecordWriter(filename)\n",
        "    labels = labels.astype(np.int64)\n",
        "    for image, label in zip(images, labels):\n",
        "        example_tmp = make_example(image.tobytes(), label)\n",
        "        writer.write(example_tmp.SerializeToString())\n",
        "    writer.close()\n",
        "\n",
        "write_tfrecord(images_train, labels_train, \"mnist_train.tfrecord\")\n",
        "write_tfrecord(images_test, labels_test, \"mnist_test.tfrecord\")"
      ],
      "metadata": {
        "id": "CdbHrvOEYVnc"
      },
      "execution_count": 16,
      "outputs": []
    },
    {
      "cell_type": "markdown",
      "source": [
        "## Check if it is correct"
      ],
      "metadata": {
        "id": "bx6SwvbtaCxf"
      }
    },
    {
      "cell_type": "code",
      "source": [
        "raw_dataset = tf.data.TFRecordDataset(\"mnist_train.tfrecord\")\n",
        "for raw_record in raw_dataset.take(1):\n",
        "  example = tf.train.Example()\n",
        "  example.ParseFromString(raw_record.numpy())\n",
        "  print(example)"
      ],
      "metadata": {
        "colab": {
          "base_uri": "https://localhost:8080/"
        },
        "id": "yhcmnN0JYXbc",
        "outputId": "cd19df4f-8fb7-400a-d06d-776f6718d009"
      },
      "execution_count": 17,
      "outputs": [
        {
          "output_type": "stream",
          "name": "stdout",
          "text": [
            "features {\n",
            "  feature {\n",
            "    key: \"image\"\n",
            "    value {\n",
            "      bytes_list {\n",
            "        value: \"\\000\\000\\000\\000\\000\\000\\000\\000\\000\\000\\000\\000\\000\\000\\000\\000\\000\\000\\000\\000\\000\\000\\000\\000\\000\\000\\000\\000\\000\\000\\000\\000\\000\\000\\000\\000\\000\\000\\000\\000\\000\\000\\000\\000\\000\\000\\000\\000\\000\\000\\000\\000\\000\\000\\000\\000\\000\\000\\000\\000\\000\\000\\000\\000\\000\\000\\000\\000\\000\\000\\000\\000\\000\\000\\000\\000\\000\\000\\000\\000\\000\\000\\000\\000\\000\\000\\000\\000\\000\\000\\000\\000\\000\\000\\000\\000\\000\\000\\000\\000\\000\\000\\000\\000\\000\\000\\000\\000\\000\\000\\000\\000\\000\\000\\000\\000\\000\\000\\000\\000\\000\\000\\000\\000\\000\\000\\000\\000\\000\\000\\000\\000\\000\\000\\000\\000\\000\\000\\000\\000\\000\\000\\000\\000\\000\\000\\000\\000\\000\\000\\000\\000\\003\\022\\022\\022~\\210\\257\\032\\246\\377\\367\\177\\000\\000\\000\\000\\000\\000\\000\\000\\000\\000\\000\\000\\036$^\\232\\252\\375\\375\\375\\375\\375\\341\\254\\375\\362\\303@\\000\\000\\000\\000\\000\\000\\000\\000\\000\\000\\0001\\356\\375\\375\\375\\375\\375\\375\\375\\375\\373]RR8\\'\\000\\000\\000\\000\\000\\000\\000\\000\\000\\000\\000\\000\\022\\333\\375\\375\\375\\375\\375\\306\\266\\367\\361\\000\\000\\000\\000\\000\\000\\000\\000\\000\\000\\000\\000\\000\\000\\000\\000\\000\\000P\\234k\\375\\375\\315\\013\\000+\\232\\000\\000\\000\\000\\000\\000\\000\\000\\000\\000\\000\\000\\000\\000\\000\\000\\000\\000\\000\\016\\001\\232\\375Z\\000\\000\\000\\000\\000\\000\\000\\000\\000\\000\\000\\000\\000\\000\\000\\000\\000\\000\\000\\000\\000\\000\\000\\000\\000\\213\\375\\276\\002\\000\\000\\000\\000\\000\\000\\000\\000\\000\\000\\000\\000\\000\\000\\000\\000\\000\\000\\000\\000\\000\\000\\000\\000\\013\\276\\375F\\000\\000\\000\\000\\000\\000\\000\\000\\000\\000\\000\\000\\000\\000\\000\\000\\000\\000\\000\\000\\000\\000\\000\\000\\000#\\361\\341\\240l\\001\\000\\000\\000\\000\\000\\000\\000\\000\\000\\000\\000\\000\\000\\000\\000\\000\\000\\000\\000\\000\\000\\000\\000Q\\360\\375\\375w\\031\\000\\000\\000\\000\\000\\000\\000\\000\\000\\000\\000\\000\\000\\000\\000\\000\\000\\000\\000\\000\\000\\000\\000-\\272\\375\\375\\226\\033\\000\\000\\000\\000\\000\\000\\000\\000\\000\\000\\000\\000\\000\\000\\000\\000\\000\\000\\000\\000\\000\\000\\000\\020]\\374\\375\\273\\000\\000\\000\\000\\000\\000\\000\\000\\000\\000\\000\\000\\000\\000\\000\\000\\000\\000\\000\\000\\000\\000\\000\\000\\000\\371\\375\\371@\\000\\000\\000\\000\\000\\000\\000\\000\\000\\000\\000\\000\\000\\000\\000\\000\\000\\000\\000\\000\\000.\\202\\267\\375\\375\\317\\002\\000\\000\\000\\000\\000\\000\\000\\000\\000\\000\\000\\000\\000\\000\\000\\000\\000\\000\\000\\'\\224\\345\\375\\375\\375\\372\\266\\000\\000\\000\\000\\000\\000\\000\\000\\000\\000\\000\\000\\000\\000\\000\\000\\000\\000\\030r\\335\\375\\375\\375\\375\\311N\\000\\000\\000\\000\\000\\000\\000\\000\\000\\000\\000\\000\\000\\000\\000\\000\\000\\027B\\325\\375\\375\\375\\375\\306Q\\002\\000\\000\\000\\000\\000\\000\\000\\000\\000\\000\\000\\000\\000\\000\\000\\000\\022\\253\\333\\375\\375\\375\\375\\303P\\t\\000\\000\\000\\000\\000\\000\\000\\000\\000\\000\\000\\000\\000\\000\\000\\0007\\254\\342\\375\\375\\375\\375\\364\\205\\013\\000\\000\\000\\000\\000\\000\\000\\000\\000\\000\\000\\000\\000\\000\\000\\000\\000\\000\\210\\375\\375\\375\\324\\207\\204\\020\\000\\000\\000\\000\\000\\000\\000\\000\\000\\000\\000\\000\\000\\000\\000\\000\\000\\000\\000\\000\\000\\000\\000\\000\\000\\000\\000\\000\\000\\000\\000\\000\\000\\000\\000\\000\\000\\000\\000\\000\\000\\000\\000\\000\\000\\000\\000\\000\\000\\000\\000\\000\\000\\000\\000\\000\\000\\000\\000\\000\\000\\000\\000\\000\\000\\000\\000\\000\\000\\000\\000\\000\\000\\000\\000\\000\\000\\000\\000\\000\\000\\000\\000\\000\\000\\000\\000\\000\\000\\000\\000\\000\\000\\000\\000\\000\\000\\000\\000\\000\"\n",
            "      }\n",
            "    }\n",
            "  }\n",
            "  feature {\n",
            "    key: \"label\"\n",
            "    value {\n",
            "      int64_list {\n",
            "        value: 5\n",
            "      }\n",
            "    }\n",
            "  }\n",
            "}\n",
            "\n"
          ]
        }
      ]
    },
    {
      "cell_type": "markdown",
      "source": [
        "## Load TFRecord"
      ],
      "metadata": {
        "id": "yBc6d5FCaKon"
      }
    },
    {
      "cell_type": "code",
      "source": [
        "def _parse_tfrecord(tfrecord):\n",
        "    feature_desc = {\n",
        "        \"image\": tf.io.FixedLenFeature([], tf.string),\n",
        "        \"label\": tf.io.FixedLenFeature([], tf.int64)\n",
        "    }\n",
        "    x = tf.io.parse_single_example(tfrecord, feature_desc)\n",
        "    image = tf.reshape(tf.io.decode_raw(x[\"image\"], tf.uint8), [28, 28])\n",
        "    label = x[\"label\"]\n",
        "    return image, label\n",
        "\n",
        "def load_tfrecord_dataset(filename, batch_size=32, shuffle=True, buffer_size=10000, repeat=1):\n",
        "    mnist_dataset = tf.data.TFRecordDataset(filename)\n",
        "    mnist_dataset = mnist_dataset.repeat(repeat)\n",
        "    if shuffle:\n",
        "        mnist_dataset = mnist_dataset.shuffle(buffer_size=buffer_size)\n",
        "    parsed_mnist = mnist_dataset.map(_parse_tfrecord, num_parallel_calls=tf.data.experimental.AUTOTUNE)\n",
        "    parsed_mnist = parsed_mnist.batch(batch_size)\n",
        "    return parsed_mnist.prefetch(buffer_size=tf.data.experimental.AUTOTUNE)"
      ],
      "metadata": {
        "id": "LE8da8uWYlE8"
      },
      "execution_count": 25,
      "outputs": []
    },
    {
      "cell_type": "code",
      "source": [
        "parsed_mnist = load_tfrecord_dataset(\"mnist_train.tfrecord\")"
      ],
      "metadata": {
        "id": "hE2pp3osYneR"
      },
      "execution_count": 26,
      "outputs": []
    },
    {
      "cell_type": "markdown",
      "source": [
        "## Show Parsed MNIST Data"
      ],
      "metadata": {
        "id": "OKvBYp7XaMVH"
      }
    },
    {
      "cell_type": "code",
      "source": [
        "for img, label in parsed_mnist.take(1):\n",
        "    plt.imshow(img[0])\n",
        "    plt.title(label[0].numpy())"
      ],
      "metadata": {
        "colab": {
          "base_uri": "https://localhost:8080/",
          "height": 281
        },
        "id": "9c7-FMHFYpXR",
        "outputId": "51de5d8f-88fd-4f49-90fa-803f2e82e00b"
      },
      "execution_count": 29,
      "outputs": [
        {
          "output_type": "display_data",
          "data": {
            "text/plain": [
              "<Figure size 432x288 with 1 Axes>"
            ],
            "image/png": "[encoded data removed]"
          },
          "metadata": {
            "needs_background": "light"
          }
        }
      ]
    }
  ]
}